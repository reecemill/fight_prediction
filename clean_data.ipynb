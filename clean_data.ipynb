{
 "cells": [
  {
   "cell_type": "code",
   "execution_count": 21,
   "id": "b2638b94",
   "metadata": {},
   "outputs": [],
   "source": [
    "import pandas as pd\n",
    "from sklearn.preprocessing import LabelEncoder"
   ]
  },
  {
   "cell_type": "code",
   "execution_count": 18,
   "id": "9d52dca8",
   "metadata": {},
   "outputs": [],
   "source": [
    "# open and read the file with stats\n",
    "# open and read the file with stats\n",
    "df = pd.read_csv(r\"/Users/reecemilligan/Desktop/AI_Project/ufcdata/ufc-master.csv\")\n",
    "\n",
    "#creating the names of the columns\n",
    "df_cols = ['R_fighter','B_fighter','R_ev','B_ev','Winner','no_of_rounds','B_current_lose_streak', 'B_current_win_streak','B_draw','B_longest_win_streak',\n",
    "   'B_losses','B_total_rounds_fought','B_total_title_bouts','B_win_by_Decision_Majority','B_win_by_Decision_Split','B_win_by_Decision_Unanimous',\n",
    "   'B_win_by_KO/TKO','B_win_by_Submission','B_win_by_TKO_Doctor_Stoppage','B_wins','B_Stance','B_Height_cms','B_Reach_cms','B_Weight_lbs',\n",
    "   'R_current_lose_streak','R_current_win_streak','R_draw','R_longest_win_streak','R_losses','R_total_rounds_fought','R_total_title_bouts',\n",
    "   'R_win_by_Decision_Majority','R_win_by_Decision_Split','R_win_by_Decision_Unanimous','R_win_by_KO/TKO','R_win_by_Submission',\n",
    "   'R_win_by_TKO_Doctor_Stoppage','R_wins','R_Stance','R_Height_cms','R_Reach_cms','R_Weight_lbs','R_age','B_age','empty_arena',\n",
    "   'B_match_weightclass_rank','R_match_weightclass_rank',]\n",
    "\n",
    "#check for the missing values in the dataset\n",
    "df = df[df_cols]\n",
    "\n",
    "\n"
   ]
  },
  {
   "cell_type": "code",
   "execution_count": null,
   "id": "ab592216",
   "metadata": {},
   "outputs": [],
   "source": []
  },
  {
   "cell_type": "code",
   "execution_count": 27,
   "id": "872571c7",
   "metadata": {},
   "outputs": [
    {
     "name": "stdout",
     "output_type": "stream",
     "text": [
      "0       1.817308\n",
      "1       0.091808\n",
      "2       0.334869\n",
      "3      -0.880434\n",
      "4      -1.374581\n",
      "          ...   \n",
      "4890    1.363289\n",
      "4891   -0.613297\n",
      "4892   -0.111125\n",
      "4893   -1.382606\n",
      "4894   -0.653425\n",
      "Name: age_difference, Length: 4895, dtype: float64\n"
     ]
    }
   ],
   "source": [
    "# if the fighter has a rank 1 to 15 else it will be zero\n",
    "df['B_match_weightclass_rank'] = df[\"B_match_weightclass_rank\"].fillna(0)\n",
    "df['R_match_weightclass_rank'] = df[\"R_match_weightclass_rank\"].fillna(0)\n",
    "\n",
    "\n",
    "# if the winner is the Red = 1 else: winner = 0\n",
    "df[\"Winner\"] = df[\"Winner\"].apply(lambda x: 1. if x == \"Red\" else 0.)\n",
    "\n",
    "# convert stance to 1 if orthodox, 0 if southpaw\n",
    "df[\"R_Stance\"] = df[\"R_Stance\"].apply(lambda x: 1. if x == \"Orthodox\" else 0.)\n",
    "df[\"B_Stance\"] = df[\"B_Stance\"].apply(lambda x: 1. if x == \"Orthodox\" else 0.)\n",
    "\n",
    "\n",
    "# add age difference\n",
    "df['age_difference'] = df['R_age'] - df['B_age']\n",
    "print(df['age_difference'])"
   ]
  },
  {
   "cell_type": "code",
   "execution_count": 26,
   "id": "6fd4ab56",
   "metadata": {},
   "outputs": [
    {
     "name": "stdout",
     "output_type": "stream",
     "text": [
      "Before filtering NaN:  4895\n",
      "After filtering NaN:  4895\n"
     ]
    }
   ],
   "source": [
    "# filter away rows with NaN\n",
    "print(\"Before filtering NaN: \", len(df))\n",
    "df = df.dropna()\n",
    "print(\"After filtering NaN: \", len(df))"
   ]
  },
  {
   "cell_type": "code",
   "execution_count": null,
   "id": "a535aba7",
   "metadata": {},
   "outputs": [],
   "source": []
  },
  {
   "cell_type": "code",
   "execution_count": null,
   "id": "7e90c87c",
   "metadata": {},
   "outputs": [],
   "source": []
  },
  {
   "cell_type": "code",
   "execution_count": null,
   "id": "572c6dfb",
   "metadata": {},
   "outputs": [],
   "source": []
  },
  {
   "cell_type": "code",
   "execution_count": null,
   "id": "1dd08714",
   "metadata": {},
   "outputs": [],
   "source": []
  },
  {
   "cell_type": "code",
   "execution_count": null,
   "id": "01ef8199",
   "metadata": {},
   "outputs": [],
   "source": []
  }
 ],
 "metadata": {
  "kernelspec": {
   "display_name": "Python 3 (ipykernel)",
   "language": "python",
   "name": "python3"
  },
  "language_info": {
   "codemirror_mode": {
    "name": "ipython",
    "version": 3
   },
   "file_extension": ".py",
   "mimetype": "text/x-python",
   "name": "python",
   "nbconvert_exporter": "python",
   "pygments_lexer": "ipython3",
   "version": "3.11.5"
  }
 },
 "nbformat": 4,
 "nbformat_minor": 5
}
