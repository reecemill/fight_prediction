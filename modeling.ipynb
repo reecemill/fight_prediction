{
 "cells": [
  {
   "cell_type": "code",
   "execution_count": null,
   "id": "799b4257",
   "metadata": {},
   "outputs": [],
   "source": [
    "import torch\n",
    "import torch.nn as nn\n",
    "import torch.optim as optim\n",
    "from torch.utils.data import DataLoader, TensorDataset\n",
    "from sklearn.model_selection import train_test_split\n",
    "import pandas as pd"
   ]
  },
  {
   "cell_type": "code",
   "execution_count": null,
   "id": "62814779",
   "metadata": {},
   "outputs": [],
   "source": [
    "def read_data(file_path):\n",
    "    # Read your data into a DataFrame\n",
    "    return pd.read_csv(file_path)"
   ]
  },
  {
   "cell_type": "code",
   "execution_count": null,
   "id": "13507dc9",
   "metadata": {},
   "outputs": [],
   "source": [
    "def prepare_data(data_frame):\n",
    "    # Target variable\n",
    "    y = data_frame['Winner']\n",
    "\n",
    "    # Drop irrelevant features or features with string values\n",
    "    # The names tend to cause less accuracy when encoded\n",
    "    X = data_frame.drop(['Winner', 'R_fighter', 'B_fighter'], axis=1)\n",
    "\n",
    "    # Split the data into train and test sets first\n",
    "    X_train, X_test, y_train, y_test = train_test_split(X, y, test_size=0.30, random_state=42)\n",
    "\n",
    "    # Split the test set further into validation and test sets\n",
    "    X_val, X_test, y_val, y_test = train_test_split(X_test, y_test, test_size=0.50, random_state=42)\n",
    "\n",
    "    # Convert features and labels to PyTorch tensors\n",
    "    X_train_tensor = torch.tensor(X_train.values, dtype=torch.float32)\n",
    "    y_train_tensor = torch.tensor(y_train.values, dtype=torch.float32)\n",
    "    X_val_tensor = torch.tensor(X_val.values, dtype=torch.float32)\n",
    "    y_val_tensor = torch.tensor(y_val.values, dtype=torch.float32)\n",
    "    X_test_tensor = torch.tensor(X_test.values, dtype=torch.float32)\n",
    "    y_test_tensor = torch.tensor(y_test.values, dtype=torch.float32)\n",
    "\n",
    "    return X_train_tensor, X_val_tensor, X_test_tensor, y_train_tensor, y_val_tensor, y_test_tensor\n"
   ]
  },
  {
   "cell_type": "code",
   "execution_count": null,
   "id": "9c04449d",
   "metadata": {},
   "outputs": [],
   "source": []
  },
  {
   "cell_type": "code",
   "execution_count": null,
   "id": "395aba6d",
   "metadata": {},
   "outputs": [],
   "source": [
    "def create_data_loader(X_train, y_train, batch_size=10):\n",
    "    # Define DataLoader for training\n",
    "    train_dataset = TensorDataset(X_train, y_train)\n",
    "    return DataLoader(train_dataset, batch_size=batch_size, shuffle=True)\n"
   ]
  },
  {
   "cell_type": "code",
   "execution_count": null,
   "id": "ebc509e7",
   "metadata": {},
   "outputs": [],
   "source": []
  },
  {
   "cell_type": "code",
   "execution_count": null,
   "id": "6ad818b9",
   "metadata": {},
   "outputs": [],
   "source": [
    "# creat the class for the model\n",
    "class FightPredictionModel(nn.Module):\n",
    "\n",
    "    # constructor with parameters input size\n",
    "    def __init__(self, input_size):\n",
    "        super(FightPredictionModel, self).__init__()\n",
    "        self.fc = nn.Linear(input_size, 1)  # fully connected layer\n",
    "        self.sigmoid = nn.Sigmoid()\n",
    "\n",
    "    def forward(self, x):\n",
    "        x = self.fc(x)  # for the ,atrix multiplication\n",
    "        x = self.sigmoid(x)  # range [0,1]\n",
    "        return x"
   ]
  },
  {
   "cell_type": "code",
   "execution_count": null,
   "id": "589cb896",
   "metadata": {},
   "outputs": [],
   "source": []
  },
  {
   "cell_type": "code",
   "execution_count": null,
   "id": "bc33e4ca",
   "metadata": {},
   "outputs": [],
   "source": [
    "def create_model_and_optimizer(input_size, learning_rate=0.001):\n",
    "    # Define your neural network model\n",
    "    model = FightPredictionModel(input_size)\n",
    "    optimizer = optim.Adam(model.parameters(), lr=learning_rate)\n",
    "    criterion = nn.BCELoss()\n",
    "    return model, optimizer, criterion"
   ]
  },
  {
   "cell_type": "code",
   "execution_count": null,
   "id": "bb6f434c",
   "metadata": {},
   "outputs": [],
   "source": []
  },
  {
   "cell_type": "code",
   "execution_count": null,
   "id": "0abe9b0b",
   "metadata": {},
   "outputs": [],
   "source": [
    "\"\"\"\n",
    "essentially encapsulates the entire process of training a neural \n",
    "network model on a given dataset with the specified optimizer and \n",
    "criterion for a certain number of epochs.\n",
    "\"\"\"\n",
    "def train_model(model, optimizer, criterion, train_loader, num_epochs=1000):\n",
    "    # Training loop\n",
    "    for epoch in range(num_epochs):\n",
    "        model.train()\n",
    "        epoch_loss = 0.0\n",
    "        for inputs, targets in train_loader:\n",
    "            optimizer.zero_grad()\n",
    "            outputs = model(inputs)\n",
    "            loss = criterion(outputs, targets.unsqueeze(1))\n",
    "            loss.backward()    \n",
    "            optimizer.step()\n",
    "            epoch_loss += loss.item()\n",
    "            \n",
    "        # this is mainly so I can see what is happening and the itteration it is on\n",
    "        print(f'Epoch [{epoch + 1}/{num_epochs}]')"
   ]
  },
  {
   "cell_type": "code",
   "execution_count": null,
   "id": "19775a2c",
   "metadata": {},
   "outputs": [],
   "source": []
  },
  {
   "cell_type": "code",
   "execution_count": null,
   "id": "fe3793a3",
   "metadata": {},
   "outputs": [],
   "source": [
    "def evaluate_model(model, X_test, y_test):\n",
    "    # Evaluate the final model on the test set\n",
    "    with torch.no_grad():\n",
    "        # allows for evaluation\n",
    "        model.eval()\n",
    "\n",
    "        # line passing through\n",
    "        outputs = model(X_test)\n",
    "        predictions = (outputs >= 0.5).float()\n",
    "        accuracy = (predictions == y_test.unsqueeze(1)).float().mean()\n",
    "        print(f'Test Accuracy: {accuracy.item() * 100:.2f}%')\n"
   ]
  },
  {
   "cell_type": "code",
   "execution_count": null,
   "id": "aa4ace7d",
   "metadata": {},
   "outputs": [],
   "source": []
  },
  {
   "cell_type": "code",
   "execution_count": null,
   "id": "e7d985e0",
   "metadata": {},
   "outputs": [],
   "source": [
    "# Main function\n",
    "def main():\n",
    "    file_path = \"/Users/reecemilligan/Desktop/AI_Project/ufcdata/ufc-master.csv\"\n",
    "    data_frame = read_data(file_path)\n",
    "    X_train, X_val, X_test, y_train, y_val, y_test = prepare_data(data_frame)\n",
    "    train_loader = create_data_loader(X_train, y_train)\n",
    "    model, optimizer, criterion = create_model_and_optimizer(input_size=X_train.shape[1], learning_rate=0.0001)\n",
    "    train_model(model, optimizer, criterion, train_loader, num_epochs=1000)\n",
    "    evaluate_model(model, X_test, y_test)\n",
    "\n",
    "if __name__ == \"__main__\":\n",
    "    main()"
   ]
  },
  {
   "cell_type": "code",
   "execution_count": null,
   "id": "ac2992dd",
   "metadata": {},
   "outputs": [],
   "source": []
  }
 ],
 "metadata": {
  "kernelspec": {
   "display_name": "Python 3 (ipykernel)",
   "language": "python",
   "name": "python3"
  },
  "language_info": {
   "codemirror_mode": {
    "name": "ipython",
    "version": 3
   },
   "file_extension": ".py",
   "mimetype": "text/x-python",
   "name": "python",
   "nbconvert_exporter": "python",
   "pygments_lexer": "ipython3",
   "version": "3.11.5"
  }
 },
 "nbformat": 4,
 "nbformat_minor": 5
}
