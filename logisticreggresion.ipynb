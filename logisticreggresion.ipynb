{
 "cells": [
  {
   "cell_type": "code",
   "execution_count": 3,
   "id": "a764f7eb",
   "metadata": {},
   "outputs": [],
   "source": [
    "import pandas as pd\n",
    "from sklearn.model_selection import train_test_split\n",
    "from sklearn.linear_model import LogisticRegression\n",
    "from sklearn.metrics import accuracy_score\n",
    "from sklearn.preprocessing import StandardScaler"
   ]
  },
  {
   "cell_type": "code",
   "execution_count": null,
   "id": "ee54bbb6",
   "metadata": {},
   "outputs": [],
   "source": []
  },
  {
   "cell_type": "code",
   "execution_count": 4,
   "id": "df1adcbe",
   "metadata": {},
   "outputs": [
    {
     "name": "stdout",
     "output_type": "stream",
     "text": [
      "             R_fighter        B_fighter        R_ev        B_ev  Winner  \\\n",
      "0        Thiago Santos    Johnny Walker   66.666667  130.000000     1.0   \n",
      "1        Alex Oliveira       Niko Price  170.000000   50.000000     0.0   \n",
      "2       Misha Cirkunov  Krzysztof Jotko  110.000000   76.923077     0.0   \n",
      "3  Alexander Hernandez     Mike Breeden   14.814815  475.000000     1.0   \n",
      "4          Joe Solecki     Jared Gordon   74.074074  115.000000     0.0   \n",
      "\n",
      "   no_of_rounds  B_current_lose_streak  B_current_win_streak   B_draw  \\\n",
      "0      3.180687              -0.621286              0.094866 -0.09805   \n",
      "1     -0.318462               1.978027             -0.667647 -0.09805   \n",
      "2     -0.318462               0.678370             -0.667647 -0.09805   \n",
      "3     -0.318462               0.678370             -0.667647 -0.09805   \n",
      "4     -0.318462              -0.621286              0.857379 -0.09805   \n",
      "\n",
      "   B_longest_win_streak  ...    R_wins  R_Stance  R_Height_cms  R_Reach_cms  \\\n",
      "0              1.187042  ...  2.033443  0.564789      1.099828     0.957658   \n",
      "1              0.124683  ...  1.566275  0.564789      0.255723     0.957658   \n",
      "2              1.718221  ...  0.398357  0.564789      1.381197     1.191106   \n",
      "3             -0.937675  ... -0.068811  0.564789     -0.307015     0.023869   \n",
      "4              0.124683  ... -0.068811  0.564789     -0.307015    -0.443026   \n",
      "\n",
      "   R_Weight_lbs     R_age     B_age  empty_arena  B_match_weightclass_rank  \\\n",
      "0      1.147655  1.687123 -0.130185     2.495828                  2.345282   \n",
      "1      0.137000  0.714881  0.623073     2.495828                 -0.407489   \n",
      "2      1.147655  0.957941  0.623073     2.495828                 -0.407489   \n",
      "3     -0.296138 -0.257361  0.623073     2.495828                 -0.407489   \n",
      "4     -0.296138 -0.500422  0.874159     2.495828                 -0.407489   \n",
      "\n",
      "   R_match_weightclass_rank  \n",
      "0                  0.812060  \n",
      "1                 -0.478619  \n",
      "2                 -0.478619  \n",
      "3                 -0.478619  \n",
      "4                 -0.478619  \n",
      "\n",
      "[5 rows x 47 columns]\n"
     ]
    }
   ],
   "source": [
    "# Open the values of the data set\n",
    "data_frame = pd.read_csv(r'/Users/reecemilligan/Desktop/AI_Project/ufcdata/ufc-master.csv')\n",
    "\n",
    "print(data_frame.head())"
   ]
  },
  {
   "cell_type": "code",
   "execution_count": null,
   "id": "b86267b7",
   "metadata": {},
   "outputs": [],
   "source": []
  },
  {
   "cell_type": "code",
   "execution_count": 5,
   "id": "9194191a",
   "metadata": {},
   "outputs": [],
   "source": [
    "# Drop irrelevant features or features with string values\n",
    "X = data_frame.drop(['Winner', 'R_fighter','B_fighter'], axis=1)  # Adjust feature names as needed\n",
    "\n",
    "# Target variable\n",
    "y = data_frame['Winner']\n"
   ]
  },
  {
   "cell_type": "code",
   "execution_count": 34,
   "id": "fa908f85",
   "metadata": {},
   "outputs": [],
   "source": [
    "# Split the data into training and temp set\n",
    "X_train, X_temp, y_train, y_temp = train_test_split(X, y, test_size=0.34, random_state=42)\n",
    "\n",
    "# Split the temp set into validation and testing sets\n",
    "# Since we already used 30% for the temp set, we split it again in half\n",
    "X_validation, X_test, y_validation, y_test = train_test_split(X_temp, y_temp, test_size=0.30, random_state=42)"
   ]
  },
  {
   "cell_type": "code",
   "execution_count": null,
   "id": "9f9f3746",
   "metadata": {},
   "outputs": [],
   "source": []
  },
  {
   "cell_type": "code",
   "execution_count": 35,
   "id": "953f8ab3",
   "metadata": {},
   "outputs": [],
   "source": [
    "# Scale the data\n",
    "scaler = StandardScaler()\n",
    "X_train_scaled = scaler.fit_transform(X_train)\n",
    "X_validation_scaled = scaler.transform(X_validation)\n",
    "X_test_scaled = scaler.transform(X_test)"
   ]
  },
  {
   "cell_type": "code",
   "execution_count": 36,
   "id": "9a1eadad",
   "metadata": {},
   "outputs": [],
   "source": [
    "# Initialize Logistic Regression model\n",
    "model = LogisticRegression(solver='lbfgs', max_iter=1000)"
   ]
  },
  {
   "cell_type": "code",
   "execution_count": 37,
   "id": "c24fce6a",
   "metadata": {},
   "outputs": [
    {
     "name": "stdout",
     "output_type": "stream",
     "text": [
      "Validation Accuracy: 66.09%\n",
      "Trained Set: 69.2%\n"
     ]
    }
   ],
   "source": [
    "# Train the model\n",
    "model.fit(X_train_scaled, y_train)\n",
    "\n",
    "# Make predictions on the testing data\n",
    "y_pred = model.predict(X_test_scaled)\n",
    "\n",
    "\n",
    "# Make predictions on the validation data\n",
    "y_pred_validation = model.predict(X_validation_scaled)\n",
    "\n",
    "# Evaluate model performance on validation set\n",
    "accuracy_validation = accuracy_score(y_validation, y_pred_validation)\n",
    "print(f'Validation Accuracy: {round(accuracy_validation * 100, 2)}%')\n",
    "\n",
    "# Evaluate model performance\n",
    "accuracy = accuracy_score(y_test, y_pred)\n",
    "print(f'Trained Set: {round(accuracy *100,2)}%')"
   ]
  },
  {
   "cell_type": "code",
   "execution_count": null,
   "id": "67dbd775",
   "metadata": {},
   "outputs": [],
   "source": []
  },
  {
   "cell_type": "code",
   "execution_count": null,
   "id": "39c8d68d",
   "metadata": {},
   "outputs": [],
   "source": []
  },
  {
   "cell_type": "code",
   "execution_count": null,
   "id": "659357ad",
   "metadata": {},
   "outputs": [],
   "source": []
  }
 ],
 "metadata": {
  "kernelspec": {
   "display_name": "Python 3 (ipykernel)",
   "language": "python",
   "name": "python3"
  },
  "language_info": {
   "codemirror_mode": {
    "name": "ipython",
    "version": 3
   },
   "file_extension": ".py",
   "mimetype": "text/x-python",
   "name": "python",
   "nbconvert_exporter": "python",
   "pygments_lexer": "ipython3",
   "version": "3.11.5"
  }
 },
 "nbformat": 4,
 "nbformat_minor": 5
}
